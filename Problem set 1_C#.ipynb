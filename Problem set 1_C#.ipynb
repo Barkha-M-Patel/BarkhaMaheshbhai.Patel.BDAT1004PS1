{
 "cells": [
  {
   "cell_type": "markdown",
   "id": "bfdd90c7",
   "metadata": {},
   "source": [
    "# Question 1\n",
    "\n",
    "What data type is each of the following?\n",
    "\n",
    "1. 5\n",
    "2. 5.0\n",
    "3. 5 > 1\n",
    "4. '5'\n",
    "5. 5 * 2\n",
    "6. '5' * 2\n",
    "7. '5' + '2'\n",
    "8. 5 / 2\n",
    "9. 5 % 2\n",
    "10. {5, 2, 1}\n",
    "11. 5 == 3\n",
    "12. Pi (the number)"
   ]
  },
  {
   "cell_type": "markdown",
   "id": "41a163d5",
   "metadata": {},
   "source": [
    "# Answer\n",
    "\n",
    "1. 5 = int\n",
    "2. 5.0 = float\n",
    "3. 5 > 1 = bool\n",
    "4. '5' = char\n",
    "5. 5 * 2 = int\n",
    "6. '5' * 2 = string\n",
    "7. '5' + '2' = string\n",
    "8. 5 / 2 = float\n",
    "9. 5 % 2 = int\n",
    "10. {5, 2, 1} = array\n",
    "11. 5==3 = bool\n",
    "12. Pi (the number) = double/float"
   ]
  },
  {
   "cell_type": "markdown",
   "id": "82901223",
   "metadata": {},
   "source": [
    "# Question 2\n",
    "\n",
    "Write (and evaluate) C# expressions that answer these questions:\n",
    "\n",
    "A. How many letters are there in 'Supercalifragilisticexpialidocious'?\n",
    "\n",
    "B. Does 'Supercalifragilisticexpialidocious' contain 'ice' as a substring?\n",
    "\n",
    "C. Which of the following words is the longest: Supercalifragilisticexpialidocious, Honorificabilitudinitatibus, or\n",
    "    Bababadalgharaghtakamminarronnkonn?\n",
    "\n",
    "D. Which composer comes first in the dictionary: 'Berlioz', 'Borodin', 'Brian','Bartok', 'Bellini', 'Buxtehude', 'Bernstein'. \n",
    "    Which one comes last?"
   ]
  },
  {
   "cell_type": "code",
   "execution_count": 137,
   "id": "ccbecca1",
   "metadata": {},
   "outputs": [
    {
     "name": "stdout",
     "output_type": "stream",
     "text": [
      "The total letters of Supercalifragilisticexpialidocious = 34 \r\n"
     ]
    }
   ],
   "source": [
    "\n",
    "// ANSWER OF A\n",
    "\n",
    "string count = \"Supercalifragilisticexpialidocious\";\n",
    "int namecount = count.Length;\n",
    "\n",
    "Console.WriteLine(\"The total letters of {0} = {1} \", count, namecount);\n"
   ]
  },
  {
   "cell_type": "code",
   "execution_count": 119,
   "id": "2f569fb3",
   "metadata": {},
   "outputs": [
    {
     "name": "stdout",
     "output_type": "stream",
     "text": [
      "ice\n",
      "'ice'' is contain as a substring in 'Supercalifragilisticexpialidocious'\n"
     ]
    }
   ],
   "source": [
    "\n",
    "// ANSWER OF B\n",
    "\n",
    "String S = \"Supercalifragilisticexpialidocious\";\n",
    "\n",
    "int startIndex = 18;\n",
    "int length = 3;      \n",
    "\n",
    "String substring = S.Substring(startIndex, length);\n",
    "\n",
    "Console.WriteLine(substring);\n",
    "\n",
    "Console.WriteLine(\"'{0}'' is contain as a substring in '{1}'\", substring, S);\n"
   ]
  },
  {
   "cell_type": "code",
   "execution_count": 307,
   "id": "299b62e4",
   "metadata": {},
   "outputs": [
    {
     "name": "stdout",
     "output_type": "stream",
     "text": [
      "Bababadalgharaghtakamminarronnkonn AND Supercalifragilisticexpialidocious IS SAME LENGTH OF WORDS\r\n"
     ]
    }
   ],
   "source": [
    "\n",
    "// ANSWER OF C\n",
    "\n",
    "\n",
    "String A = \"Supercalifragilisticexpialidocious\";\n",
    "String B = \"Honorificabilitudinitatibus\";\n",
    "String C = \"Bababadalgharaghtakamminarronnkonn\";\n",
    "\n",
    "\n",
    "int ALength = A.Length;\n",
    "int BLength = B.Length;\n",
    "int CLength = C.Length;\n",
    "\n",
    "\n",
    "if (A.Length == B.Length || B.Length == C.Length || C.Length == A.Length)\n",
    "{\n",
    "    if(A.Length == B.Length)\n",
    "    {\n",
    "        Console.WriteLine(\"{0} AND {1} IS SAME LENGTH OF WORDS\", A, B);\n",
    "    }\n",
    "    \n",
    "    else if(B.Length == C.Length)\n",
    "    {\n",
    "        Console.WriteLine(\"{0} AND {1} IS SAME LENGTH OF WORDS\", B, C);\n",
    "    }\n",
    "    \n",
    "     else if(C.Length == A.Length)\n",
    "    {\n",
    "        Console.WriteLine(\"{0} AND {1} IS SAME LENGTH OF WORDS\", C, A);\n",
    "    }\n",
    "}\n",
    "\n",
    "else{\n",
    "        if(A.Length > B.Length)\n",
    "        {\n",
    "            if(A.Length > C.Length)\n",
    "            {\n",
    "                Console.WriteLine(\"''{0}'' is the greatest\", A);\n",
    "            }\n",
    "            \n",
    "            else\n",
    "            {\n",
    "                  Console.WriteLine(\"''{0}'' is the greatest\", A);   \n",
    "            }\n",
    "        }\n",
    "    \n",
    "    else if(B.Length > C.Length)\n",
    "    {\n",
    "         Console.WriteLine(\"''{0}'' is the greatest\", B);  \n",
    "    }\n",
    "    \n",
    "    else\n",
    "    {\n",
    "         Console.WriteLine(\"''{0}'' is the greatest\", C);  \n",
    "    }\n",
    "}"
   ]
  },
  {
   "cell_type": "code",
   "execution_count": 370,
   "id": "602ddee3",
   "metadata": {},
   "outputs": [
    {
     "name": "stdout",
     "output_type": "stream",
     "text": [
      "Bartok \n",
      "Bellini \n",
      "Berlioz \n",
      "Bernstein \n",
      "Borodin \n",
      "Brian \n",
      "Buxtehude \n"
     ]
    }
   ],
   "source": [
    "\n",
    "// ANSWER OF D\n",
    "\n",
    "\n",
    "var list = new SortedSet<string>();\n",
    "    \n",
    "        list.Add(\"Berlioz \\n\");\n",
    "        list.Add(\"Borodin \\n\");\n",
    "        list.Add(\"Brian \\n\");\n",
    "        list.Add(\"Bartok \\n\");\n",
    "        list.Add(\"Bellini \\n\");\n",
    "        list.Add(\"Buxtehude \\n\");\n",
    "        list.Add(\"Bernstein \\n\");\n",
    "\n",
    "    foreach (var name in list)\n",
    "    {\n",
    "        Console.Write(name);\n",
    "        Console.ReadLine();\n",
    "    }"
   ]
  },
  {
   "cell_type": "markdown",
   "id": "6e9b2b1c",
   "metadata": {},
   "source": [
    "# Question 3\n",
    "\n",
    "Implement function triangleArea(a,b,c) that takes as input the lengths of the 3 sides of a triangle and returns the area of the triangle. By Heron's formula, the area of a triangle with side lengths a, b, and c is [s(s - a)(s -b)(s -c)], where s = (a+b+c)/2.\n"
   ]
  },
  {
   "cell_type": "code",
   "execution_count": 273,
   "id": "65b23686",
   "metadata": {},
   "outputs": [
    {
     "name": "stdout",
     "output_type": "stream",
     "text": [
      "triangleArea (2,2,2)\n",
      "Area: 1.7320508"
     ]
    }
   ],
   "source": [
    "static float findArea(float A, float B, float C)\n",
    "    {\n",
    "    \n",
    "      if (A < 0 || B < 0 || C < 0 || (A + B <= C) || A + C <= B || B + C <= A)\n",
    "        {\n",
    "            Console.Write(\"TRINGLE IS NOT VALIDE\");\n",
    "        }\n",
    "        \n",
    "        float S = (A + B + C) / 2;\n",
    "        \n",
    "        return (float) Math.Sqrt(S * (S - A) * (S - B) * (S - C));\n",
    "    }\n",
    "         \n",
    "\n",
    "        float A = 2.0f;\n",
    "        float B = 2.0f;\n",
    "        float C = 2.0f;\n",
    "        \n",
    "        Console.Write(\"triangleArea ({0},{1},{2})\", A, B, C);\n",
    "        Console.Write(\"\\n\");\n",
    "        Console.Write(\"Area: \" + findArea(A, B, C));"
   ]
  },
  {
   "cell_type": "markdown",
   "id": "c9a0fef7",
   "metadata": {},
   "source": [
    "# Question 4\n",
    "\n",
    "Write a program in C# Sharp to separate odd and even integers in separate arrays.\n",
    "Go to the editor\n",
    "Test Data :\n",
    "Input the number of elements to be stored in the array :5\n",
    "Input 5 elements in the array :\n",
    "element - 0 : 25\n",
    "element - 1 : 47\n",
    "element - 2 : 42\n",
    "element - 3 : 56\n",
    "element - 4 : 32"
   ]
  },
  {
   "cell_type": "code",
   "execution_count": 416,
   "id": "a0f2f317",
   "metadata": {},
   "outputs": [],
   "source": [
    "using System;  \n",
    "public class Exercise10 \n",
    "{  \n",
    "    public static void Main() \n",
    "\n",
    "  {\n",
    "    int[] arr1 = new int[10];\n",
    "    int[] arr2 = new int[10];\n",
    "    int[] arr3 = new int[10];\n",
    "\n",
    "\n",
    "    int i,j=0,k=0,n;\n",
    "\n",
    "       Console.Write(\"Input the number of elements to be stored in the array :\");\n",
    "       n = Convert.ToInt32(Console.ReadLine());\n",
    "   \n",
    "       Console.Write(\"Input {0} elements in the array :\\n\",n);\n",
    "       \n",
    "       for(i=0;i<n;i++)\n",
    "            {\n",
    "                  Console.Write(\"element - {0} : \",i);\n",
    "                  arr1[i] = Convert.ToInt32(Console.ReadLine());\n",
    "            }\n",
    "\n",
    "        for(i=0;i<n;i++)\n",
    "        {\n",
    "            if (arr1[i]%2 == 0)\n",
    "            {\n",
    "               arr2[j] = arr1[i];\n",
    "               j++;\n",
    "            }\n",
    "            else\n",
    "            {\n",
    "               arr3[k] = arr1[i];\n",
    "               k++;\n",
    "            }\n",
    "        }\n",
    "\n",
    "    Console.Write(\"\\nThe Even elements are : \\n\");\n",
    "    for(i=0;i<j;i++)\n",
    "    {\n",
    "        Console.Write(\"{0} \",arr2[i]);\n",
    "    }\n",
    "\n",
    "    Console.Write(\"\\nThe Odd elements are :\\n\");\n",
    "    for(i=0;i<k;i++)\n",
    "    {\n",
    "        Console.Write(\"{0} \", arr3[i]);\n",
    "    }\n",
    "    \n",
    "    Console.Write(\"\\n\\n\");\n",
    "  }\n",
    "}"
   ]
  },
  {
   "cell_type": "markdown",
   "id": "fb138859",
   "metadata": {},
   "source": [
    "Input the number of elements to be stored in the array :5\n",
    "\n",
    "Input 5 elements in the array :\n",
    "\n",
    "element - 0 : 25\n",
    "\n",
    "element - 1 : 47\n",
    "\n",
    "element - 2 : 42\n",
    "\n",
    "element - 3 : 56\n",
    "\n",
    "element - 4 : 32\n",
    "\n",
    "The Even elements are : \n",
    "\n",
    "42 56 32 \n",
    "\n",
    "The Odd elements are :\n",
    "\n",
    "25 47"
   ]
  },
  {
   "cell_type": "markdown",
   "id": "d23e4929",
   "metadata": {},
   "source": [
    "# Question 5\n",
    "\n",
    "# A. \n",
    "\n",
    "Write a function inside(x,y,x1,y1,x2,y2) that returns True or False depending on whether the point (x,y) lies in the rectangle with lower left corner (x1,y1) and upper right corner (x2,y2).\n",
    "\n",
    "    inside(1,1,0,0,2,3)\n",
    "        True\n",
    "    inside(-1,-1,0,0,2,3)\n",
    "        False\n"
   ]
  },
  {
   "cell_type": "code",
   "execution_count": 418,
   "id": "b0ea484f",
   "metadata": {},
   "outputs": [
    {
     "name": "stdout",
     "output_type": "stream",
     "text": [
      "TRUE"
     ]
    }
   ],
   "source": [
    "// ANSWER OF A\n",
    "// for inside(1,1,0,0,2,3)\n",
    "\n",
    "static bool FindPoint(int x1, int y1, int x2, int y2, int x, int y)\n",
    "    {\n",
    "        if (x > x1 && x < x2 && y > y1 && y < y2)\n",
    "        \n",
    "            return true;\n",
    "        else\n",
    "            return false;\n",
    "    }\n",
    " \n",
    "    int x1 = 0, y1 = 0,x2 = 2, y2 = 3;\n",
    "    int x = 1, y = 1;\n",
    " \n",
    "    if (FindPoint(x1, y1, x2, y2, x, y))\n",
    "    \n",
    "        Console.Write(\"TRUE\");\n",
    "    else\n",
    "        Console.Write(\"FALSE\");\n",
    "        "
   ]
  },
  {
   "cell_type": "code",
   "execution_count": 419,
   "id": "db20acb3",
   "metadata": {},
   "outputs": [
    {
     "name": "stdout",
     "output_type": "stream",
     "text": [
      "FALSE"
     ]
    }
   ],
   "source": [
    "// ANSWER OF A\n",
    "// for inside(-1,-1,0,0,2,3)\n",
    "\n",
    "static bool FindPoint(int x1, int y1, int x2, int y2, int x, int y)\n",
    "    {\n",
    "        if (x > x1 && x < x2 && y > y1 && y < y2)\n",
    "        \n",
    "            return true;\n",
    "         else\n",
    "            return false;\n",
    "    }\n",
    " \n",
    "    int x1 = 0, y1 = 0,x2 = 2, y2 = 3;\n",
    "    int x = -1, y = -1;\n",
    " \n",
    "    if (FindPoint(x1, y1, x2, y2, x, y))\n",
    "    \n",
    "        Console.Write(\"TRUE\");\n",
    "    else\n",
    "        Console.Write(\"FALSE\");"
   ]
  },
  {
   "cell_type": "markdown",
   "id": "36d89a81",
   "metadata": {},
   "source": [
    "# B.\n",
    "\n",
    "Use function inside() from part a. to write an expression that tests whether the point (1,1) lies in both of the following rectangles: one with lower left corner (0.3, 0.5) and upper right corner (1.1, 0.7) and the other with lower left corner (0.5, 0.2) and upper right corner (1.1, 2). \n"
   ]
  },
  {
   "cell_type": "code",
   "execution_count": 423,
   "id": "b903a0f3",
   "metadata": {},
   "outputs": [
    {
     "name": "stdout",
     "output_type": "stream",
     "text": [
      "FOR (1,1,0.3,0.5,1.1,0.7): False\n",
      "FOR (1,1,0.5,0.2,1.1,2): True"
     ]
    }
   ],
   "source": [
    "\n",
    "static bool inside(double a, double b, double a1, double b1, double a2, double b2)\n",
    "    {\n",
    "        if (a > a1 && a < a2 && b > b1 && b < b2)\n",
    "        \n",
    "            return true;\n",
    "        else\n",
    "            return false;\n",
    "    }\n",
    " \n",
    "\n",
    "bool rectangle1 = inside(1,1,0.3,0.5,1.1,0.7);\n",
    "bool rectangle2 = inside(1,1,0.5,0.2,1.1,2);\n",
    "        \n",
    "Console.Write(\"FOR (1,1,0.3,0.5,1.1,0.7): {0}\",rectangle1);\n",
    "Console.Write(\"\\n\");\n",
    "Console.Write(\"FOR (1,1,0.5,0.2,1.1,2): {0}\",rectangle2);"
   ]
  }
 ],
 "metadata": {
  "celltoolbar": "Attachments",
  "kernelspec": {
   "display_name": ".NET (C#)",
   "language": "C#",
   "name": ".net-csharp"
  },
  "language_info": {
   "file_extension": ".cs",
   "mimetype": "text/x-csharp",
   "name": "C#",
   "pygments_lexer": "csharp",
   "version": "8.0"
  }
 },
 "nbformat": 4,
 "nbformat_minor": 5
}
