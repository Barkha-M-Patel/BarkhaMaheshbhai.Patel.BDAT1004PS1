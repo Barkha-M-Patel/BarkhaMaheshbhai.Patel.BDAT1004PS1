{
 "cells": [
  {
   "cell_type": "markdown",
   "id": "bfdd90c7",
   "metadata": {},
   "source": [
    "# Question 1\n",
    "\n",
    "What data type is each of the following?\n",
    "\n",
    "1. 5\n",
    "2. 5.0\n",
    "3. 5 > 1\n",
    "4. '5'\n",
    "5. 5 * 2\n",
    "6. '5' * 2\n",
    "7. '5' + '2'\n",
    "8. 5 / 2\n",
    "9. 5 % 2\n",
    "10. {5, 2, 1}\n",
    "11. 5 == 3\n",
    "12. Pi (the number)"
   ]
  },
  {
   "cell_type": "markdown",
   "id": "41a163d5",
   "metadata": {},
   "source": [
    "# Answer\n",
    "\n",
    "1. 5 = int\n",
    "2. 5.0 = float\n",
    "3. 5 > 1 = bool\n",
    "4. '5' = char\n",
    "5. 5 * 2 = int\n",
    "6. '5' * 2 = string\n",
    "7. '5' + '2' = string\n",
    "8. 5 / 2 = float\n",
    "9. 5 % 2 = int\n",
    "10. {5, 2, 1} = array\n",
    "11. 5==3 = bool\n",
    "12. Pi (the number) = double/float"
   ]
  },
  {
   "cell_type": "markdown",
   "id": "82901223",
   "metadata": {},
   "source": [
    "# Question 2\n",
    "\n",
    "Write (and evaluate) C# expressions that answer these questions:\n",
    "\n",
    "A. How many letters are there in 'Supercalifragilisticexpialidocious'?\n",
    "\n",
    "B. Does 'Supercalifragilisticexpialidocious' contain 'ice' as a substring?\n",
    "\n",
    "C. Which of the following words is the longest: Supercalifragilisticexpialidocious, Honorificabilitudinitatibus, or\n",
    "    Bababadalgharaghtakamminarronnkonn?\n",
    "\n",
    "D. Which composer comes first in the dictionary: 'Berlioz', 'Borodin', 'Brian','Bartok', 'Bellini', 'Buxtehude', 'Bernstein'. \n",
    "    Which one comes last?"
   ]
  },
  {
   "cell_type": "code",
   "execution_count": 137,
   "id": "ccbecca1",
   "metadata": {},
   "outputs": [
    {
     "name": "stdout",
     "output_type": "stream",
     "text": [
      "The total letters of Supercalifragilisticexpialidocious = 34 \r\n"
     ]
    }
   ],
   "source": [
    "\n",
    "// ANSWER OF A\n",
    "\n",
    "string count = \"Supercalifragilisticexpialidocious\";\n",
    "int namecount = count.Length;\n",
    "\n",
    "Console.WriteLine(\"The total letters of {0} = {1} \", count, namecount);\n"
   ]
  },
  {
   "cell_type": "code",
   "execution_count": 119,
   "id": "2f569fb3",
   "metadata": {},
   "outputs": [
    {
     "name": "stdout",
     "output_type": "stream",
     "text": [
      "ice\n",
      "'ice'' is contain as a substring in 'Supercalifragilisticexpialidocious'\n"
     ]
    }
   ],
   "source": [
    "\n",
    "// ANSWER OF B\n",
    "\n",
    "String S = \"Supercalifragilisticexpialidocious\";\n",
    "\n",
    "int startIndex = 18;\n",
    "int length = 3;      \n",
    "\n",
    "String substring = S.Substring(startIndex, length);\n",
    "\n",
    "Console.WriteLine(substring);\n",
    "\n",
    "Console.WriteLine(\"'{0}'' is contain as a substring in '{1}'\", substring, S);\n"
   ]
  },
  {
   "cell_type": "code",
   "execution_count": 307,
   "id": "299b62e4",
   "metadata": {},
   "outputs": [
    {
     "name": "stdout",
     "output_type": "stream",
     "text": [
      "Bababadalgharaghtakamminarronnkonn AND Supercalifragilisticexpialidocious IS SAME LENGTH OF WORDS\r\n"
     ]
    }
   ],
   "source": [
    "\n",
    "// ANSWER OF C\n",
    "\n",
    "\n",
    "String A = \"Supercalifragilisticexpialidocious\";\n",
    "String B = \"Honorificabilitudinitatibus\";\n",
    "String C = \"Bababadalgharaghtakamminarronnkonn\";\n",
    "\n",
    "\n",
    "int ALength = A.Length;\n",
    "int BLength = B.Length;\n",
    "int CLength = C.Length;\n",
    "\n",
    "\n",
    "if (A.Length == B.Length || B.Length == C.Length || C.Length == A.Length)\n",
    "{\n",
    "    if(A.Length == B.Length)\n",
    "    {\n",
    "        Console.WriteLine(\"{0} AND {1} IS SAME LENGTH OF WORDS\", A, B);\n",
    "    }\n",
    "    \n",
    "    else if(B.Length == C.Length)\n",
    "    {\n",
    "        Console.WriteLine(\"{0} AND {1} IS SAME LENGTH OF WORDS\", B, C);\n",
    "    }\n",
    "    \n",
    "     else if(C.Length == A.Length)\n",
    "    {\n",
    "        Console.WriteLine(\"{0} AND {1} IS SAME LENGTH OF WORDS\", C, A);\n",
    "    }\n",
    "}\n",
    "\n",
    "else{\n",
    "        if(A.Length > B.Length)\n",
    "        {\n",
    "            if(A.Length > C.Length)\n",
    "            {\n",
    "                Console.WriteLine(\"''{0}'' is the greatest\", A);\n",
    "            }\n",
    "            \n",
    "            else\n",
    "            {\n",
    "                  Console.WriteLine(\"''{0}'' is the greatest\", A);   \n",
    "            }\n",
    "        }\n",
    "    \n",
    "    else if(B.Length > C.Length)\n",
    "    {\n",
    "         Console.WriteLine(\"''{0}'' is the greatest\", B);  \n",
    "    }\n",
    "    \n",
    "    else\n",
    "    {\n",
    "         Console.WriteLine(\"''{0}'' is the greatest\", C);  \n",
    "    }\n",
    "}"
   ]
  },
  {
   "cell_type": "code",
   "execution_count": 370,
   "id": "602ddee3",
   "metadata": {},
   "outputs": [
    {
     "name": "stdout",
     "output_type": "stream",
     "text": [
      "Bartok \n",
      "Bellini \n",
      "Berlioz \n",
      "Bernstein \n",
      "Borodin \n",
      "Brian \n",
      "Buxtehude \n"
     ]
    }
   ],
   "source": [
    "\n",
    "// ANSWER OF D\n",
    "\n",
    "\n",
    "var list = new SortedSet<string>();\n",
    "    \n",
    "        list.Add(\"Berlioz \\n\");\n",
    "        list.Add(\"Borodin \\n\");\n",
    "        list.Add(\"Brian \\n\");\n",
    "        list.Add(\"Bartok \\n\");\n",
    "        list.Add(\"Bellini \\n\");\n",
    "        list.Add(\"Buxtehude \\n\");\n",
    "        list.Add(\"Bernstein \\n\");\n",
    "\n",
    "    foreach (var name in list)\n",
    "    {\n",
    "        Console.Write(name);\n",
    "        Console.ReadLine();\n",
    "    }"
   ]
  },
  {
   "cell_type": "markdown",
   "id": "6e9b2b1c",
   "metadata": {},
   "source": [
    "# Question 3\n",
    "\n",
    "Implement function triangleArea(a,b,c) that takes as input the lengths of the 3 sides of a triangle and returns the area of the triangle. By Heron's formula, the area of a triangle with side lengths a, b, and c is [s(s - a)(s -b)(s -c)], where s = (a+b+c)/2.\n"
   ]
  },
  {
   "cell_type": "code",
   "execution_count": 273,
   "id": "65b23686",
   "metadata": {},
   "outputs": [
    {
     "name": "stdout",
     "output_type": "stream",
     "text": [
      "triangleArea (2,2,2)\n",
      "Area: 1.7320508"
     ]
    }
   ],
   "source": [
    "static float findArea(float A, float B, float C)\n",
    "    {\n",
    "    \n",
    "      if (A < 0 || B < 0 || C < 0 || (A + B <= C) || A + C <= B || B + C <= A)\n",
    "        {\n",
    "            Console.Write(\"TRINGLE IS NOT VALIDE\");\n",
    "        }\n",
    "        \n",
    "        float S = (A + B + C) / 2;\n",
    "        \n",
    "        return (float) Math.Sqrt(S * (S - A) * (S - B) * (S - C));\n",
    "    }\n",
    "         \n",
    "\n",
    "        float A = 2.0f;\n",
    "        float B = 2.0f;\n",
    "        float C = 2.0f;\n",
    "        \n",
    "        Console.Write(\"triangleArea ({0},{1},{2})\", A, B, C);\n",
    "        Console.Write(\"\\n\");\n",
    "        Console.Write(\"Area: \" + findArea(A, B, C));"
   ]
  },
  {
   "cell_type": "markdown",
   "id": "c9a0fef7",
   "metadata": {},
   "source": [
    "# Question 4\n",
    "\n",
    "Write a program in C# Sharp to separate odd and even integers in separate arrays.\n",
    "Go to the editor\n",
    "Test Data :\n",
    "Input the number of elements to be stored in the array :5\n",
    "Input 5 elements in the array :\n",
    "element - 0 : 25\n",
    "element - 1 : 47\n",
    "element - 2 : 42\n",
    "element - 3 : 56\n",
    "element - 4 : 32"
   ]
  },
  {
   "cell_type": "code",
   "execution_count": 416,
   "id": "a0f2f317",
   "metadata": {},
   "outputs": [],
   "source": [
    "using System;  \n",
    "public class Exercise10 \n",
    "{  \n",
    "    public static void Main() \n",
    "\n",
    "  {\n",
    "    int[] arr1 = new int[10];\n",
    "    int[] arr2 = new int[10];\n",
    "    int[] arr3 = new int[10];\n",
    "\n",
    "\n",
    "    int i,j=0,k=0,n;\n",
    "\n",
    "       Console.Write(\"Input the number of elements to be stored in the array :\");\n",
    "       n = Convert.ToInt32(Console.ReadLine());\n",
    "   \n",
    "       Console.Write(\"Input {0} elements in the array :\\n\",n);\n",
    "       \n",
    "       for(i=0;i<n;i++)\n",
    "            {\n",
    "                  Console.Write(\"element - {0} : \",i);\n",
    "                  arr1[i] = Convert.ToInt32(Console.ReadLine());\n",
    "            }\n",
    "\n",
    "        for(i=0;i<n;i++)\n",
    "        {\n",
    "            if (arr1[i]%2 == 0)\n",
    "            {\n",
    "               arr2[j] = arr1[i];\n",
    "               j++;\n",
    "            }\n",
    "            else\n",
    "            {\n",
    "               arr3[k] = arr1[i];\n",
    "               k++;\n",
    "            }\n",
    "        }\n",
    "\n",
    "    Console.Write(\"\\nThe Even elements are : \\n\");\n",
    "    for(i=0;i<j;i++)\n",
    "    {\n",
    "        Console.Write(\"{0} \",arr2[i]);\n",
    "    }\n",
    "\n",
    "    Console.Write(\"\\nThe Odd elements are :\\n\");\n",
    "    for(i=0;i<k;i++)\n",
    "    {\n",
    "        Console.Write(\"{0} \", arr3[i]);\n",
    "    }\n",
    "    \n",
    "    Console.Write(\"\\n\\n\");\n",
    "  }\n",
    "}"
   ]
  },
  {
   "cell_type": "markdown",
   "id": "fb138859",
   "metadata": {},
   "source": [
    "Input the number of elements to be stored in the array :5\n",
    "\n",
    "Input 5 elements in the array :\n",
    "\n",
    "element - 0 : 25\n",
    "\n",
    "element - 1 : 47\n",
    "\n",
    "element - 2 : 42\n",
    "\n",
    "element - 3 : 56\n",
    "\n",
    "element - 4 : 32\n",
    "\n",
    "The Even elements are : \n",
    "\n",
    "42 56 32 \n",
    "\n",
    "The Odd elements are :\n",
    "\n",
    "25 47"
   ]
  },
  {
   "cell_type": "markdown",
   "id": "d23e4929",
   "metadata": {},
   "source": [
    "# Question 5\n",
    "\n",
    "# A. \n",
    "\n",
    "Write a function inside(x,y,x1,y1,x2,y2) that returns True or False depending on whether the point (x,y) lies in the rectangle with lower left corner (x1,y1) and upper right corner (x2,y2).\n",
    "\n",
    "    inside(1,1,0,0,2,3)\n",
    "        True\n",
    "    inside(-1,-1,0,0,2,3)\n",
    "        False\n"
   ]
  },
  {
   "cell_type": "code",
   "execution_count": 418,
   "id": "b0ea484f",
   "metadata": {},
   "outputs": [
    {
     "name": "stdout",
     "output_type": "stream",
     "text": [
      "TRUE"
     ]
    }
   ],
   "source": [
    "// ANSWER OF A\n",
    "// for inside(1,1,0,0,2,3)\n",
    "\n",
    "static bool FindPoint(int x1, int y1, int x2, int y2, int x, int y)\n",
    "    {\n",
    "        if (x > x1 && x < x2 && y > y1 && y < y2)\n",
    "        \n",
    "            return true;\n",
    "        else\n",
    "            return false;\n",
    "    }\n",
    " \n",
    "    int x1 = 0, y1 = 0,x2 = 2, y2 = 3;\n",
    "    int x = 1, y = 1;\n",
    " \n",
    "    if (FindPoint(x1, y1, x2, y2, x, y))\n",
    "    \n",
    "        Console.Write(\"TRUE\");\n",
    "    else\n",
    "        Console.Write(\"FALSE\");\n",
    "        "
   ]
  },
  {
   "cell_type": "code",
   "execution_count": 419,
   "id": "db20acb3",
   "metadata": {},
   "outputs": [
    {
     "name": "stdout",
     "output_type": "stream",
     "text": [
      "FALSE"
     ]
    }
   ],
   "source": [
    "// ANSWER OF A\n",
    "// for inside(-1,-1,0,0,2,3)\n",
    "\n",
    "static bool FindPoint(int x1, int y1, int x2, int y2, int x, int y)\n",
    "    {\n",
    "        if (x > x1 && x < x2 && y > y1 && y < y2)\n",
    "        \n",
    "            return true;\n",
    "         else\n",
    "            return false;\n",
    "    }\n",
    " \n",
    "    int x1 = 0, y1 = 0,x2 = 2, y2 = 3;\n",
    "    int x = -1, y = -1;\n",
    " \n",
    "    if (FindPoint(x1, y1, x2, y2, x, y))\n",
    "    \n",
    "        Console.Write(\"TRUE\");\n",
    "    else\n",
    "        Console.Write(\"FALSE\");"
   ]
  },
  {
   "cell_type": "markdown",
   "id": "36d89a81",
   "metadata": {},
   "source": [
    "# B.\n",
    "\n",
    "Use function inside() from part a. to write an expression that tests whether the point (1,1) lies in both of the following rectangles: one with lower left corner (0.3, 0.5) and upper right corner (1.1, 0.7) and the other with lower left corner (0.5, 0.2) and upper right corner (1.1, 2). \n"
   ]
  },
  {
   "cell_type": "code",
   "execution_count": 423,
   "id": "b903a0f3",
   "metadata": {
    "scrolled": true
   },
   "outputs": [
    {
     "name": "stdout",
     "output_type": "stream",
     "text": [
      "FOR (1,1,0.3,0.5,1.1,0.7): False\n",
      "FOR (1,1,0.5,0.2,1.1,2): True"
     ]
    }
   ],
   "source": [
    "\n",
    "static bool inside(double a, double b, double a1, double b1, double a2, double b2)\n",
    "    {\n",
    "        if (a > a1 && a < a2 && b > b1 && b < b2)\n",
    "        \n",
    "            return true;\n",
    "        else\n",
    "            return false;\n",
    "    }\n",
    " \n",
    "\n",
    "bool rectangle1 = inside(1,1,0.3,0.5,1.1,0.7);\n",
    "bool rectangle2 = inside(1,1,0.5,0.2,1.1,2);\n",
    "        \n",
    "Console.Write(\"FOR (1,1,0.3,0.5,1.1,0.7): {0}\",rectangle1);\n",
    "Console.Write(\"\\n\");\n",
    "Console.Write(\"FOR (1,1,0.5,0.2,1.1,2): {0}\",rectangle2);"
   ]
  },
  {
   "cell_type": "markdown",
   "id": "b0cb70fb",
   "metadata": {},
   "source": [
    "# Question 6 Python\n",
    "You can turn a word into pig-Latin using the following two rules (simplified): • If the word starts with a consonant, move that letter to the end and append 'ay'. For example, 'happy' becomes 'appyhay' and 'pencil' becomes 'encilpay'. • If the word starts with a vowel, simply append 'way' to the end of the word.For example, 'enter' becomes 'enterway' and 'other' becomes 'otherway' . For our purposes, there are 5 vowels: a, e, i, o, u (so we count y as a consonant). Write a function pig() that takes a word (i.e., a string) as input and returns its pigLatin form. Your function should still work if the input word contains upper case characters. Your output should always be lower case however.\n",
    "\n",
    "pig('happy') 'appyhay'\n",
    "\n",
    "pig('Enter') 'enterway'"
   ]
  },
  {
   "cell_type": "code",
   "execution_count": 2,
   "id": "7307c0c2",
   "metadata": {},
   "outputs": [
    {
     "name": "stdout",
     "output_type": "stream",
     "text": [
      "appyhay\n"
     ]
    }
   ],
   "source": [
    "def isVowel(c):\n",
    "    return (c == 'A' or c == 'E' or c == 'I' or c == 'O' or c == 'U' or c == 'a' or c == 'e' or c == 'i' or c == 'o' or\n",
    "            c == 'u');\n",
    " \n",
    " \n",
    "def pigLatin(s):\n",
    " \n",
    "    length = len(s);\n",
    "    index = -1;\n",
    "    \n",
    "    for i in range(length):\n",
    "        if (isVowel(s[i])):\n",
    "            index = i;\n",
    "            break;\n",
    " \n",
    "    if (index == -1):\n",
    "        return \"-1\";\n",
    " \n",
    "    return s[index:] + s[0:index] + \"ay\";\n",
    " \n",
    "str = pigLatin(\"happy\");\n",
    "\n",
    "if (str == \"-1\"):\n",
    "    print(\"no possible\");\n",
    "else:\n",
    "    print(str);\n",
    "    "
   ]
  },
  {
   "cell_type": "code",
   "execution_count": 3,
   "id": "5f15eee0",
   "metadata": {},
   "outputs": [
    {
     "name": "stdout",
     "output_type": "stream",
     "text": [
      "Enterway\n"
     ]
    }
   ],
   "source": [
    "def isVowel(c):\n",
    "    return (c == 'A' or c == 'E' or c == 'I' or c == 'O' or c == 'U' or c == 'a' or c == 'e' or c == 'i' or c == 'o' or\n",
    "            c == 'u');\n",
    " \n",
    " \n",
    "def pigLatin(s):\n",
    " \n",
    "   \n",
    "    length = len(s);\n",
    "    index = -1;\n",
    "    for i in range(length):\n",
    "        if (isVowel(s[i])):\n",
    "            index = i;\n",
    "            break;\n",
    " \n",
    "    if (index == -1):\n",
    "        return \"-1\";\n",
    " \n",
    "    return s[index:] + s[0:index] + \"way\";\n",
    " \n",
    "str = pigLatin(\"Enter\");\n",
    "\n",
    "if (str == \"-1\"):\n",
    "    print(\"no possible\");\n",
    "else:\n",
    "    print(str);"
   ]
  },
  {
   "cell_type": "markdown",
   "id": "cc967e16",
   "metadata": {},
   "source": [
    "# Question 7 Python\n",
    "\n",
    "File bloodtype1.txt records blood-types of patients (A, B, AB, O or OO) at a clinic.\n",
    "Write a function bldcount() that reads the file with name name and reports (i.e.,\n",
    "prints) how many patients there are in each bloodtype.\n",
    "\n",
    " bldcount('bloodtype.txt')\n",
    "\n",
    "There are 10 patients of blood type A.\n",
    "\n",
    "There is one patient of blood type B.\n",
    "\n",
    "There are 10 patients of blood type AB.\n",
    "\n",
    "There are 12 patients of blood type O.\n",
    "\n",
    "There are no patients of blood type OO.\n"
   ]
  },
  {
   "cell_type": "code",
   "execution_count": 4,
   "id": "c4cacc12",
   "metadata": {},
   "outputs": [
    {
     "name": "stdout",
     "output_type": "stream",
     "text": [
      "There are 15 patients of bloodtype A\n",
      "There are one patients of bloodtype B\n",
      "There are 15 patients of bloodtype O\n",
      "There are no patients of bloodtype OO\n",
      "There are 13 patients of bloodtype AB\n"
     ]
    }
   ],
   "source": [
    "f = open(\"bloodtype1.txt\", \"r\")\n",
    "lis = f.read()\n",
    "lis=lis.split(\" \")\n",
    "\n",
    "lis1 = [\"A\",\"B\",\"O\",\"OO\",\"AB\"]\n",
    "\n",
    "for i in lis1:\n",
    "  c = lis.count(i)\n",
    "  if c==0:\n",
    "    print(\"There are no patients of bloodtype {}\".format(i))\n",
    "  elif c==1:\n",
    "    print(\"There are one patients of bloodtype {}\".format(i))\n",
    "  else:\n",
    "    print(\"There are {} patients of bloodtype {}\".format(c,i))"
   ]
  },
  {
   "cell_type": "markdown",
   "id": "178cac65",
   "metadata": {},
   "source": [
    "# Question 8 Python\n",
    "\n",
    "Write a function curconv() that takes as input:\n",
    "\n",
    "1. a currency represented using a string (e.g., 'JPY' for the Japanese Yen or'EUR' for the Euro)\n",
    "\n",
    "2. an amountand then converts and returns the amount in US dollars."
   ]
  },
  {
   "cell_type": "code",
   "execution_count": 8,
   "id": "12683445",
   "metadata": {},
   "outputs": [
    {
     "name": "stdout",
     "output_type": "stream",
     "text": [
      "1.241401\n"
     ]
    }
   ],
   "source": [
    "def convertor1(input1,value):\n",
    "  with open(\"currencies.txt\") as file_in:\n",
    "      lines = []\n",
    "      for line in file_in:\n",
    "          lines.append(line)\n",
    "  value = float(value)\n",
    "  for i in lines:\n",
    "    if input1 in i: \n",
    "      ls = list(i.split())\n",
    "     \n",
    "      y = value * float(ls[1])\n",
    "      print(y)\n",
    "\n",
    "\n",
    "convertor1(\"JPY\",100)"
   ]
  },
  {
   "cell_type": "markdown",
   "id": "fc8173f2",
   "metadata": {},
   "source": [
    "# Question 9 Python\n",
    "\n",
    "Each of the following will cause an exception (an error). Identify what type of exception each will cause.\n"
   ]
  },
  {
   "cell_type": "markdown",
   "id": "79286bfe",
   "metadata": {},
   "source": [
    "1. Trying to add incompatible variables, as inadding 6 + ‘a’\n",
    "    \n",
    "this will cuase TypeError\n",
    "\n",
    "\n",
    "2. Referring to the 12th item of a list that has only 10 items\n",
    "\n",
    "this will cause IndexError\n",
    "\n",
    "\n",
    "3. Using a value that is out of range for a function’s input, such as calling math.sqrt(-1.0)\n",
    "\n",
    "this will cause ValueError\n",
    "\n",
    "4. Using an undeclared variable, such as print(x) when x has not been defined\n",
    "\n",
    "\n",
    "this will cause NameError\n",
    "\n",
    "\n",
    "5. Trying to open a file that does not exist, such as mistyping the file name or looking in the wrong directory. \n",
    "\n",
    "this will cause FileNotFoundError"
   ]
  },
  {
   "cell_type": "markdown",
   "id": "0d01303e",
   "metadata": {},
   "source": [
    "# Question 10 Python\n",
    "\n",
    "Encryption is the process of hiding the meaning of a text by substituting letters in the message with other letters, according to some system. If the process is successful, no one but the intended recipient can understand the encrypted message. Cryptanalysis refers to attempts to undo the encryption, even if some details of the encryption are unknown (for example, if an encrypted message has been intercepted). The first step of cryptanalysis is often to build up a table of letter frequencies in the encrypted text.\n",
    "\n",
    "Assume that the string letters is already defined as\n",
    "'abcdefghijklmnopqrstuvwxyz'. Write a function called frequencies()\n",
    "that takes a string as its only parameter, and returns a list of integers, showing the\n",
    "number of times each character appears in the text. Your function may ignore any\n",
    "characters that are not in letters. "
   ]
  },
  {
   "cell_type": "code",
   "execution_count": 1,
   "id": "fff686a9",
   "metadata": {},
   "outputs": [
    {
     "name": "stdout",
     "output_type": "stream",
     "text": [
      "[1, 1, 1, 3, 6, 1, 1, 2, 1, 0, 1, 0, 1, 2, 3, 0, 1, 2, 0, 3, 1, 0, 1, 1, 0, 0]\n"
     ]
    }
   ],
   "source": [
    "def frequencies(input): \n",
    "  ab = list(\"abcdefghijklmnopqrstuvwxyz\")\n",
    "  a= list(input)\n",
    "  bb=[]\n",
    "  c=0\n",
    "  for i in ab:\n",
    "    for j in a:\n",
    "      if i == j:\n",
    "        c= c+1\n",
    "    bb.append(c)\n",
    "    c=0\n",
    "  print(bb)\n",
    "\n",
    "frequencies(\"the quick red fox get bored and went home\")"
   ]
  }
 ],
 "metadata": {
  "celltoolbar": "Attachments",
  "kernelspec": {
   "display_name": "Python 3",
   "language": "python",
   "name": "python3"
  },
  "language_info": {
   "codemirror_mode": {
    "name": "ipython",
    "version": 3
   },
   "file_extension": ".py",
   "mimetype": "text/x-python",
   "name": "python",
   "nbconvert_exporter": "python",
   "pygments_lexer": "ipython3",
   "version": "3.8.8"
  }
 },
 "nbformat": 4,
 "nbformat_minor": 5
}
