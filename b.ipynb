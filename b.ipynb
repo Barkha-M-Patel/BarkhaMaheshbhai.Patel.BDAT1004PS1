{
 "cells": [
  {
   "cell_type": "markdown",
   "id": "c959abfe",
   "metadata": {},
   "source": [
    "# Question 1\n",
    "\n",
    "What data type is each of the following?\n",
    "\n",
    "5\n",
    "5.0\n",
    "5 > 1\n",
    "'5'\n",
    "5 * 2\n",
    "'5' * 2\n",
    "'5' + '2'\n",
    "5 / 2\n",
    "5 % 2\n",
    "{5, 2, 1}\n",
    "5 == 3\n",
    "Pi (the number)"
   ]
  },
  {
   "cell_type": "code",
   "execution_count": 13,
   "id": "ccbecca1",
   "metadata": {},
   "outputs": [
    {
     "name": "stdout",
     "output_type": "stream",
     "text": [
      "The total letters of bbbeeerrrkkkaaadddfff 21\r\n"
     ]
    }
   ],
   "source": [
    "string str = \"bbbeeerrrkkkaaadddfff\";\n",
    "Console.WriteLine(\"The total letters of {0} {1}\", str, str.Length);\n"
   ]
  },
  {
   "cell_type": "code",
   "execution_count": 14,
   "id": "41ef08a9",
   "metadata": {},
   "outputs": [
    {
     "name": "stdout",
     "output_type": "stream",
     "text": [
      "21\r\n"
     ]
    }
   ],
   "source": [
    "string str = \"bbbeeerrrkkkaaadddfff\";\n",
    "Console.WriteLine(str.Length);"
   ]
  }
 ],
 "metadata": {
  "celltoolbar": "Attachments",
  "kernelspec": {
   "display_name": ".NET (C#)",
   "language": "C#",
   "name": ".net-csharp"
  },
  "language_info": {
   "file_extension": ".cs",
   "mimetype": "text/x-csharp",
   "name": "C#",
   "pygments_lexer": "csharp",
   "version": "8.0"
  }
 },
 "nbformat": 4,
 "nbformat_minor": 5
}
